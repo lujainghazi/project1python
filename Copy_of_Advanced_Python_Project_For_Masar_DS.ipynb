{
  "nbformat": 4,
  "nbformat_minor": 0,
  "metadata": {
    "colab": {
      "provenance": [],
      "include_colab_link": true
    },
    "kernelspec": {
      "name": "python3",
      "display_name": "Python 3"
    },
    "language_info": {
      "name": "python"
    }
  },
  "cells": [
    {
      "cell_type": "markdown",
      "metadata": {
        "id": "view-in-github",
        "colab_type": "text"
      },
      "source": [
        "<a href=\"https://colab.research.google.com/github/lujainghazi/project1python/blob/main/Copy_of_Advanced_Python_Project_For_Masar_DS.ipynb\" target=\"_parent\"><img src=\"https://colab.research.google.com/assets/colab-badge.svg\" alt=\"Open In Colab\"/></a>"
      ]
    },
    {
      "cell_type": "markdown",
      "source": [
        "#Loops\n",
        "Here are some questions about loops and variants\n",
        "\n",
        "Q1. using for loop\n",
        "\n",
        "\n",
        "\n",
        "Q2. using while loop"
      ],
      "metadata": {
        "id": "SZjzwZk4b1Hx"
      }
    },
    {
      "cell_type": "markdown",
      "source": [
        "##Q1.\n",
        "Loop through and print out all even numbers from the numbers list in the same order they are received. Don't print any numbers that come after 52 in the sequence.\n",
        "\n",
        "\n",
        "\n",
        "```\n",
        "nums = [229, 792, 857, 579, 974, 346, 649, 454, 698, 347, 236, 297, 150, 698, 294, 663, 556, 712, 271, 283, 705, 347, 725, 716, 486, 642, 644, 728, 409, 208, 421, 799, 52, 796, 441, 374, 60, 948, 143, 698, 934, 561, 917, 678, 666, 476, 23, 743, 836, 655, 971, 372, 215, 567, 462, 127, 208, 683, 618, 96, 329, 92, 934, 992, 120, 944, 605, 78, 87, 216, 62, 919, 462, 597, 671, 493, 540, 451, 885, 375, 606, 90, 607, 443, 240, 708, 674, 111, 165, 858, 799, 39, 383, 602, 695, 689, 726, 344, 2, 335]\n",
        "\n",
        "```\n",
        "\n",
        "\n"
      ],
      "metadata": {
        "id": "MubxfeNQbEfg"
      }
    },
    {
      "cell_type": "code",
      "source": [
        "#your code goes here\n",
        "#copy 'nums' from the text above\n",
        "nums = [229, 792, 857, 579, 974, 346, 649, 454, 698, 347, 236, 297, 150, 698, 294, 663, 556, 712, 271, 283, 705, 347, 725, 716, 486, 642, 644, 728, 409, 208, 421, 799, 52, 796, 441, 374, 60, 948, 143, 698, 934, 561, 917, 678, 666, 476, 23, 743, 836, 655, 971, 372, 215, 567, 462, 127, 208, 683, 618, 96, 329, 92, 934, 992, 120, 944, 605, 78, 87, 216, 62, 919, 462, 597, 671, 493, 540, 451, 885, 375, 606, 90, 607, 443, 240, 708, 674, 111, 165, 858, 799, 39, 383, 602, 695, 689, 726, 344, 2, 335]\n",
        "\n",
        "for i in nums: # or you can use index but you have to get the len, i.e., l = len(nums)\n",
        " if i % 2 == 0 :\n",
        "  print(i)\n",
        " if i == 52 :\n",
        "    break"
      ],
      "metadata": {
        "id": "UHPEHtocbjJj",
        "colab": {
          "base_uri": "https://localhost:8080/"
        },
        "outputId": "13418d7e-a955-455a-d6af-0e9c975feba3"
      },
      "execution_count": 3,
      "outputs": [
        {
          "output_type": "stream",
          "name": "stdout",
          "text": [
            "792\n",
            "974\n",
            "346\n",
            "454\n",
            "698\n",
            "236\n",
            "150\n",
            "698\n",
            "294\n",
            "556\n",
            "712\n",
            "716\n",
            "486\n",
            "642\n",
            "644\n",
            "728\n",
            "208\n",
            "52\n"
          ]
        }
      ]
    },
    {
      "cell_type": "markdown",
      "source": [
        "##Q2.\n",
        "\n",
        "# Prints out 0,1,2,3,4,...,9 and then it prints \"count value reached 10\"\n",
        "\n",
        "Hint: use \"while\" loop"
      ],
      "metadata": {
        "id": "tOZSXcvychXX"
      }
    },
    {
      "cell_type": "code",
      "source": [
        "#start by defining and counter\n",
        "counter = 0\n",
        "\n",
        "while(counter<10):\n",
        "\n",
        "  #your code goes here\n",
        " print(counter)\n",
        " counter+=1\n",
        "print(\"count value reached 10\")"
      ],
      "metadata": {
        "id": "a0MocSyWcrXo",
        "colab": {
          "base_uri": "https://localhost:8080/"
        },
        "outputId": "763721d7-0131-4398-dfaa-4b1935e72826"
      },
      "execution_count": 8,
      "outputs": [
        {
          "output_type": "stream",
          "name": "stdout",
          "text": [
            "0\n",
            "1\n",
            "2\n",
            "3\n",
            "4\n",
            "5\n",
            "6\n",
            "7\n",
            "8\n",
            "9\n",
            "count value reached 10\n"
          ]
        }
      ]
    },
    {
      "cell_type": "markdown",
      "source": [
        "# Function"
      ],
      "metadata": {
        "id": "AU30FUchc_sj"
      }
    },
    {
      "cell_type": "markdown",
      "source": [
        "##Q1.\n",
        "\n",
        "Write a Python function that takes a list and returns a new list with distinct elements from the first list.\n",
        "\n",
        "\n",
        "\n",
        "```\n",
        "Sample List : [1,2,3,3,3,3,4,5]\n",
        "Unique List : [1, 2, 3, 4, 5]\n",
        "```\n",
        "\n"
      ],
      "metadata": {
        "id": "cBjZ-aJpeN_L"
      }
    },
    {
      "cell_type": "code",
      "source": [
        "#start with define the sunction\n",
        "thelist = [1,2,3,3,3,3,4,5]\n",
        "newlist = []\n",
        "def uniq(list_given):\n",
        "  for i in list_given :\n",
        "    if i not in newlist :\n",
        "      newlist.append(i)\n",
        "  return newlist\n",
        "  #complete your code here\n",
        "\n",
        "\n",
        "print(uniq(thelist))\n",
        ""
      ],
      "metadata": {
        "id": "sovVi8CEeaEa",
        "colab": {
          "base_uri": "https://localhost:8080/"
        },
        "outputId": "1f2009d3-e7b7-4c22-86a3-ea54f956924c"
      },
      "execution_count": 9,
      "outputs": [
        {
          "output_type": "stream",
          "name": "stdout",
          "text": [
            "[1, 2, 3, 4, 5]\n"
          ]
        }
      ]
    },
    {
      "cell_type": "markdown",
      "source": [
        "##Q2.\n",
        "function to find the factorial of a number\n",
        "\n",
        "\n",
        "Hint: don't use external library\n",
        "\n",
        "\n",
        "Hint: think about for loop or while loop\n"
      ],
      "metadata": {
        "id": "NwiFKNCvenZc"
      }
    },
    {
      "cell_type": "code",
      "source": [
        "#start defining the function\n",
        "num = 5\n",
        "def fact(n):\n",
        "\n",
        "  # your code is here\n",
        "\n",
        "    if n == 1:\n",
        "        return 1\n",
        "    else:\n",
        "\n",
        "      return (n * fact(n-1))\n",
        "print(fact(num))"
      ],
      "metadata": {
        "id": "iwu5AIOXhdsZ",
        "colab": {
          "base_uri": "https://localhost:8080/"
        },
        "outputId": "9e2001cc-c0fa-4def-9ca6-4874c1a717f2"
      },
      "execution_count": 12,
      "outputs": [
        {
          "output_type": "stream",
          "name": "stdout",
          "text": [
            "120\n"
          ]
        }
      ]
    },
    {
      "cell_type": "markdown",
      "source": [
        "#Break\n",
        "\n",
        "Try to run this code\n",
        "\n",
        "```\n",
        "def f(x):\n",
        "    if x > 0:\n",
        "        print(\"Only printed when x is positive; x =\", x)\n",
        "        print(\"Also only printed when x is positive; x =\", x)\n",
        "    print(\"Always printed, regardless of x's value; x =\", x)\n",
        "\n",
        "f(1)\n",
        "f(0)\n",
        "```\n"
      ],
      "metadata": {
        "id": "ZF1g_7s2h7zi"
      }
    },
    {
      "cell_type": "code",
      "source": [
        "#run the code here please\n",
        "\n",
        "def f(x):\n",
        "    if x > 0:\n",
        "        print(\"Only printed when x is positive; x =\", x)\n",
        "        print(\"Also only printed when x is positive; x =\", x)\n",
        "    print(\"Always printed, regardless of x's value; x =\", x)\n",
        "\n",
        "f(1)\n",
        "f(0)\n"
      ],
      "metadata": {
        "id": "X2p0muapicsv",
        "colab": {
          "base_uri": "https://localhost:8080/"
        },
        "outputId": "5c979e51-f0cd-4ec4-f085-a643d0d6e6bb"
      },
      "execution_count": 14,
      "outputs": [
        {
          "output_type": "stream",
          "name": "stdout",
          "text": [
            "Only printed when x is positive; x = 1\n",
            "Also only printed when x is positive; x = 1\n",
            "Always printed, regardless of x's value; x = 1\n",
            "Always printed, regardless of x's value; x = 0\n"
          ]
        }
      ]
    },
    {
      "cell_type": "markdown",
      "source": [
        "#using Numpy and zip\n",
        "\n",
        "Imagine that you have a list of numbers from 1 to 26\n",
        "and we have another list that contains the alphabets\n",
        "letters = ['a', 'b',...,'z']\n",
        "\n",
        "I want to you to make a dictionary that map between the key and the corresponding letter\n",
        "\n",
        "hint: use Numpy and zip function (and try to find another library for the letters)\n",
        "\n",
        "\n",
        "\n",
        "\n",
        "```\n",
        "#sample code might be like this\n",
        "#try to solve it by yourself first\n",
        "import numpy as np\n",
        "a = np.arange(1,27)\n",
        "a = list(a)\n",
        "import string\n",
        "letters_list = list(string.ascii_lowercase)\n",
        "mapping = dict(zip(a, letters_list))\n",
        "mapping\n",
        "```\n",
        "\n"
      ],
      "metadata": {
        "id": "VtYXQ4Ufio86"
      }
    },
    {
      "cell_type": "code",
      "source": [
        "#your code goes here\n",
        "import numpy as np\n",
        "\n",
        "# Create array of numbers from 1 to 26\n",
        "numbers = np.arange(1, 27)\n",
        "\n",
        "# Use zip to create key-value pairs\n",
        "import string\n",
        "letters = list(string.ascii_lowercase)\n",
        "mapping = dict(zip(numbers, letters))\n",
        "\n",
        "print(mapping)\n"
      ],
      "metadata": {
        "id": "v6CVS5G3nAJy",
        "colab": {
          "base_uri": "https://localhost:8080/"
        },
        "outputId": "abf08c94-2f6f-4f68-9b4b-caaf749faf01"
      },
      "execution_count": 2,
      "outputs": [
        {
          "output_type": "stream",
          "name": "stdout",
          "text": [
            "{1: 'a', 2: 'b', 3: 'c', 4: 'd', 5: 'e', 6: 'f', 7: 'g', 8: 'h', 9: 'i', 10: 'j', 11: 'k', 12: 'l', 13: 'm', 14: 'n', 15: 'o', 16: 'p', 17: 'q', 18: 'r', 19: 's', 20: 't', 21: 'u', 22: 'v', 23: 'w', 24: 'x', 25: 'y', 26: 'z'}\n"
          ]
        }
      ]
    },
    {
      "cell_type": "markdown",
      "source": [
        "#Loops and List Comprehensions\n",
        "\n",
        "List comprehensions combined with functions like min, max, and sum can lead to impressive one-line solutions for problems that would otherwise require several lines of code.\n",
        "\n",
        "For example, compare the following two cells of code that do the same thing.\n",
        "\n",
        "\n",
        "\n",
        "```\n",
        "def count_negatives(nums):\n",
        "    \"\"\"Return the number of negative numbers in the given list.\n",
        "    \n",
        "    >>> count_negatives([5, -1, -2, 0, 3])\n",
        "    2\n",
        "    \"\"\"\n",
        "    n_negative = 0\n",
        "    for num in nums:\n",
        "        if num < 0:\n",
        "            n_negative = n_negative + 1\n",
        "    return n_negative\n",
        "```\n",
        "Here's a solution using a list comprehension:\n",
        "\n",
        "\n",
        "\n",
        "```\n",
        "def count_negatives(nums):\n",
        "    return len([num for num in nums if num < 0])\n",
        "```\n",
        "\n",
        "\n",
        "\n",
        "\n"
      ],
      "metadata": {
        "id": "0R6KAt7ntrdq"
      }
    },
    {
      "cell_type": "markdown",
      "source": [
        "#Intro to Data Analysis and ML\n",
        "\n"
      ],
      "metadata": {
        "id": "vgqZdFIUvHjc"
      }
    },
    {
      "cell_type": "markdown",
      "source": [
        "#1 Importing data and packages\n",
        "\n",
        "copy this code and try to understand the syntax\n",
        "\n",
        "\n",
        "\n",
        "```\n",
        "#استخدام بايثون في المشين ليرنينج\n",
        "\n",
        "import pandas as pd\n",
        "from sklearn.datasets import load_iris\n",
        "\n",
        "# Load the Iris dataset\n",
        "iris = load_iris()\n",
        "\n",
        "# Create a DataFrame using the data and feature_names\n",
        "iris_df = pd.DataFrame(data=iris.data, columns=iris.feature_names)\n",
        "\n",
        "# Add the target column to the DataFrame\n",
        "iris_df['target'] = iris.target\n",
        "\n",
        "# Display the DataFrame\n",
        "print(iris_df)\n",
        "```\n",
        "\n"
      ],
      "metadata": {
        "id": "irVFkljbvNFp"
      }
    },
    {
      "cell_type": "code",
      "source": [
        "\n",
        "import pandas as pd\n",
        "from sklearn.datasets import load_iris\n",
        "\n",
        "# Load the Iris dataset\n",
        "iris = load_iris()\n",
        "\n",
        "# Create a DataFrame using the data and feature_names\n",
        "iris_df = pd.DataFrame(data=iris.data, columns=iris.feature_names)\n",
        "\n",
        "# Add the target column to the DataFrame\n",
        "iris_df['target'] = iris.target\n",
        "\n",
        "# Display the DataFrame\n",
        "print(iris_df)"
      ],
      "metadata": {
        "id": "xQWtMINivVrb"
      },
      "execution_count": null,
      "outputs": []
    },
    {
      "cell_type": "markdown",
      "source": [
        "#2 Data Visualization\n",
        "\n",
        "\n",
        "\n",
        "```\n",
        "import seaborn as sns\n",
        "import matplotlib.pyplot as plt\n",
        "\n",
        "# Load the Iris dataset\n",
        "iris = sns.load_dataset(\"iris\")\n",
        "\n",
        "# Pairplot: Scatterplot matrix\n",
        "sns.pairplot(iris, hue=\"species\", palette=\"husl\", markers=[\"o\", \"s\", \"D\"])\n",
        "plt.suptitle(\"Pairplot of Iris Dataset\", y=1.02)\n",
        "plt.show()\n",
        "\n",
        "# Boxplot: Distribution of features by species\n",
        "plt.figure(figsize=(12, 6))\n",
        "plt.subplot(2, 2, 1)\n",
        "sns.boxplot(x=\"species\", y=\"sepal_length\", data=iris)\n",
        "plt.subplot(2, 2, 2)\n",
        "sns.boxplot(x=\"species\", y=\"sepal_width\", data=iris)\n",
        "plt.subplot(2, 2, 3)\n",
        "sns.boxplot(x=\"species\", y=\"petal_length\", data=iris)\n",
        "plt.subplot(2, 2, 4)\n",
        "sns.boxplot(x=\"species\", y=\"petal_width\", data=iris)\n",
        "plt.suptitle(\"Boxplots of Iris Features by Species\", y=1.02)\n",
        "plt.show()\n",
        "\n",
        "# Violin plot: Distribution of features by species\n",
        "plt.figure(figsize=(12, 6))\n",
        "plt.subplot(2, 2, 1)\n",
        "sns.violinplot(x=\"species\", y=\"sepal_length\", data=iris)\n",
        "plt.subplot(2, 2, 2)\n",
        "sns.violinplot(x=\"species\", y=\"sepal_width\", data=iris)\n",
        "plt.subplot(2, 2, 3)\n",
        "sns.violinplot(x=\"species\", y=\"petal_length\", data=iris)\n",
        "plt.subplot(2, 2, 4)\n",
        "sns.violinplot(x=\"species\", y=\"petal_width\", data=iris)\n",
        "plt.suptitle(\"Violin Plots of Iris Features by Species\", y=1.02)\n",
        "plt.show()\n",
        "\n",
        "# Heatmap: Correlation matrix\n",
        "correlation_matrix = iris.corr()\n",
        "sns.heatmap(correlation_matrix, annot=True, cmap=\"coolwarm\", linewidths=.5)\n",
        "plt.title(\"Correlation Matrix of Iris Features\")\n",
        "plt.show()\n",
        "```\n",
        "\n"
      ],
      "metadata": {
        "id": "cmWQJoZVvWFC"
      }
    },
    {
      "cell_type": "code",
      "source": [
        "#paste the code here\n",
        "\n",
        "import seaborn as sns\n",
        "import matplotlib.pyplot as plt\n",
        "\n",
        "# Load the Iris dataset\n",
        "iris = sns.load_dataset(\"iris\")\n",
        "\n",
        "# Pairplot: Scatterplot matrix\n",
        "sns.pairplot(iris, hue=\"species\", palette=\"husl\", markers=[\"o\", \"s\", \"D\"])\n",
        "plt.suptitle(\"Pairplot of Iris Dataset\", y=1.02)\n",
        "plt.show()\n",
        "\n",
        "# Boxplot: Distribution of features by species\n",
        "plt.figure(figsize=(12, 6))\n",
        "plt.subplot(2, 2, 1)\n",
        "sns.boxplot(x=\"species\", y=\"sepal_length\", data=iris)\n",
        "plt.subplot(2, 2, 2)\n",
        "sns.boxplot(x=\"species\", y=\"sepal_width\", data=iris)\n",
        "plt.subplot(2, 2, 3)\n",
        "sns.boxplot(x=\"species\", y=\"petal_length\", data=iris)\n",
        "plt.subplot(2, 2, 4)\n",
        "sns.boxplot(x=\"species\", y=\"petal_width\", data=iris)\n",
        "plt.suptitle(\"Boxplots of Iris Features by Species\", y=1.02)\n",
        "plt.show()\n",
        "\n",
        "# Violin plot: Distribution of features by species\n",
        "plt.figure(figsize=(12, 6))\n",
        "plt.subplot(2, 2, 1)\n",
        "sns.violinplot(x=\"species\", y=\"sepal_length\", data=iris)\n",
        "plt.subplot(2, 2, 2)\n",
        "sns.violinplot(x=\"species\", y=\"sepal_width\", data=iris)\n",
        "plt.subplot(2, 2, 3)\n",
        "sns.violinplot(x=\"species\", y=\"petal_length\", data=iris)\n",
        "plt.subplot(2, 2, 4)\n",
        "sns.violinplot(x=\"species\", y=\"petal_width\", data=iris)\n",
        "plt.suptitle(\"Violin Plots of Iris Features by Species\", y=1.02)\n",
        "plt.show()\n",
        "\n",
        "# Heatmap: Correlation matrix\n",
        "correlation_matrix = iris.corr()\n",
        "sns.heatmap(correlation_matrix, annot=True, cmap=\"coolwarm\", linewidths=.5)\n",
        "plt.title(\"Correlation Matrix of Iris Features\")\n",
        "plt.show()\n"
      ],
      "metadata": {
        "id": "xE331549vim7"
      },
      "execution_count": null,
      "outputs": []
    },
    {
      "cell_type": "markdown",
      "source": [
        "#Quiz\n",
        "\n",
        "Write a Python function called even_squares that takes a list of integers as input and returns a new list containing the squares of even numbers from the original list.\n",
        "\n",
        "Hint: work SMARTER not harder\n",
        "\n",
        "\n",
        "\n",
        "```\n",
        "numbers = [1, 2, 3, 4, 5, 6, 7, 8, 9, 10]\n",
        "result = even_squares(numbers)\n",
        "print(result)\n",
        "\n",
        "[4, 16, 36, 64, 100]\n",
        "\n",
        "\n",
        "```\n",
        "\n"
      ],
      "metadata": {
        "id": "WHfsLR62wgUX"
      }
    },
    {
      "cell_type": "code",
      "source": [
        "#your code goes here\n",
        "def even_squares(number):\n",
        "\n",
        "\n",
        "  if number % 2 == 0:\n",
        "    return pow(number,2)\n",
        "  else:\n",
        "    return None\n",
        "\n",
        "numbers = [1, 2, 3, 4, 5, 6, 7, 8, 9, 10]\n",
        "\n",
        "result = []\n",
        "for num in numbers:\n",
        "    squared_even = even_squares(num)\n",
        "    if squared_even is not None:\n",
        "        result.append(squared_even)\n",
        "\n",
        "print(result)\n",
        "\n",
        "\n",
        "\n",
        "\n",
        ""
      ],
      "metadata": {
        "id": "qsbGpVLiwyg1",
        "colab": {
          "base_uri": "https://localhost:8080/"
        },
        "outputId": "06460cde-a91e-4152-c8f4-85fa9de91dd5"
      },
      "execution_count": 10,
      "outputs": [
        {
          "output_type": "stream",
          "name": "stdout",
          "text": [
            "[4, 16, 36, 64, 100]\n"
          ]
        }
      ]
    },
    {
      "cell_type": "markdown",
      "source": [
        "#Thanks\n",
        "\n",
        "Best wishes,\n",
        "\n",
        "Abdullah\n",
        "\n",
        "```\n",
        "# This is formatted as code\n",
        "```\n",
        "\n"
      ],
      "metadata": {
        "id": "3fYvAF7Tw1F5"
      }
    }
  ]
}